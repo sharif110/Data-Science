{
 "cells": [
  {
   "cell_type": "markdown",
   "id": "13556ac5",
   "metadata": {},
   "source": [
    "# Task 2"
   ]
  },
  {
   "cell_type": "code",
   "execution_count": 1,
   "id": "e35d263d",
   "metadata": {},
   "outputs": [],
   "source": [
    "#P20-0560 - Abubaker Attique\n",
    "#p20-0130 - Shareef Ali"
   ]
  },
  {
   "cell_type": "code",
   "execution_count": 2,
   "id": "04935c65",
   "metadata": {},
   "outputs": [],
   "source": [
    "import csv\n",
    "from bs4 import BeautifulSoup\n",
    "import requests"
   ]
  },
  {
   "cell_type": "code",
   "execution_count": 3,
   "id": "76d70bc1",
   "metadata": {},
   "outputs": [],
   "source": [
    "\n",
    "# Define the URL of the weather forecast page\n",
    "url = \"https://forecast.weather.gov/MapClick.php?lat=37.7772&lon=-122.4168\""
   ]
  },
  {
   "cell_type": "code",
   "execution_count": 4,
   "id": "b780821e",
   "metadata": {},
   "outputs": [],
   "source": [
    "# Send an HTTP GET request to the URL\n",
    "response = requests.get(url)"
   ]
  },
  {
   "cell_type": "code",
   "execution_count": 5,
   "id": "b46fbf9d",
   "metadata": {},
   "outputs": [
    {
     "name": "stdout",
     "output_type": "stream",
     "text": [
      "Day: Today\n",
      "Desc: Today: Sunny, with a high near 71. West wind 6 to 14 mph, with gusts as high as 21 mph. \n",
      "short-desc: Sunny\n",
      "high-lows: High\n",
      "temps: 71 °F\n",
      "\n",
      "Day: Tonight\n",
      "Desc: Tonight: Increasing clouds, with a low around 57. West wind 7 to 13 mph, with gusts as high as 18 mph. \n",
      "short-desc: IncreasingClouds\n",
      "high-lows: Low\n",
      "temps: 57 °F\n",
      "\n",
      "Day: Sunday\n",
      "Desc: Sunday: Partly sunny, then gradually becoming sunny, with a high near 73. West southwest wind 6 to 10 mph. \n",
      "short-desc: BecomingSunny\n",
      "high-lows: High\n",
      "temps: 73 °F\n",
      "\n",
      "Day: SundayNight\n",
      "Desc: Sunday Night: Clear, with a low around 57. West southwest wind 6 to 13 mph, with gusts as high as 18 mph. \n",
      "short-desc: Clear\n",
      "high-lows: Low\n",
      "temps: 57 °F\n",
      "\n",
      "Day: Monday\n",
      "Desc: Monday: Sunny, with a high near 74. West southwest wind 6 to 11 mph, with gusts as high as 18 mph. \n",
      "short-desc: Sunny\n",
      "high-lows: High\n",
      "temps: 74 °F\n",
      "\n",
      "Day: MondayNight\n",
      "Desc: Monday Night: Partly cloudy, with a low around 57.\n",
      "short-desc: Partly Cloudy\n",
      "high-lows: Low\n",
      "temps: 57 °F\n",
      "\n",
      "Day: Tuesday\n",
      "Desc: Tuesday: Mostly sunny, with a high near 69.\n",
      "short-desc: Mostly Sunny\n",
      "high-lows: High\n",
      "temps: 69 °F\n",
      "\n",
      "Day: TuesdayNight\n",
      "Desc: Tuesday Night: Mostly clear, with a low around 57.\n",
      "short-desc: Mostly Clear\n",
      "high-lows: Low\n",
      "temps: 57 °F\n",
      "\n",
      "Day: Wednesday\n",
      "Desc: Wednesday: Sunny, with a high near 72.\n",
      "short-desc: Sunny\n",
      "high-lows: High\n",
      "temps: 72 °F\n",
      "\n",
      "Data has been scraped and saved to 'weather_forecast.csv'.\n"
     ]
    }
   ],
   "source": [
    "# Check if the request was successful\n",
    "if response.status_code == 200:\n",
    "    # Parse the HTML content of the page\n",
    "    soup = BeautifulSoup(response.text, 'html.parser')\n",
    "\n",
    "    # Find the ul element containing the forecast data\n",
    "    forecast_list = soup.find('ul', {'id': 'seven-day-forecast-list'})\n",
    "#     print(forecast_list)\n",
    "\n",
    "    # Initialize lists to store data\n",
    "    days = []\n",
    "    descriptions = []\n",
    "    short_descriptions = []\n",
    "    high_lows = []\n",
    "    temps = []\n",
    "    \n",
    "\n",
    "    # Find all forecast items within the ul element\n",
    "    forecast_items = forecast_list.find_all(class_='forecast-tombstone')\n",
    "#     print(forecast_items)\n",
    "\n",
    "    # Extract data from each item\n",
    "    for item in forecast_items:\n",
    "        # Extract day\n",
    "        day = item.find(class_='period-name').get_text(strip=True)\n",
    "\n",
    "        # Extract description\n",
    "        desc = item.find(class_='tombstone-container').img['alt']\n",
    "\n",
    "        # Extract short description\n",
    "        short_desc = item.find(class_='short-desc').get_text(strip=True)\n",
    "        \n",
    "         # Extract temperatures\n",
    "        high_low = item.find(class_='temp').get_text(strip=True).split(': ')[0]\n",
    "\n",
    "        # Extract temperatures\n",
    "        temp = item.find(class_='temp').text.strip().replace('Low:', '').replace('High:', '').strip()\n",
    "\n",
    "        # Append data to lists\n",
    "        days.append(day)\n",
    "        descriptions.append(desc)\n",
    "        short_descriptions.append(short_desc)\n",
    "        high_lows.append(f\"{high_low}\")\n",
    "        temps.append(temp)\n",
    "\n",
    "    # Create a CSV file and write data to it\n",
    "    with open('weather_forecast.csv', 'w', newline='') as csv_file:\n",
    "        writer = csv.writer(csv_file)\n",
    "        writer.writerow([\"Day\", \"Desc\", \"Short Desc\", \"High-Low\", \"Temp\"])\n",
    "        for i in range(len(days)):\n",
    "            writer.writerow([days[i], descriptions[i], short_descriptions[i], high_lows[i], temps[i]])\n",
    "            \n",
    "            # Print the extracted information\n",
    "            print(f\"Day: {days[i]}\")\n",
    "            print(f\"Desc: {descriptions[i]}\")\n",
    "            print(f\"short-desc: {short_descriptions[i]}\")\n",
    "            print(f\"high-lows: {high_lows[i]}\")\n",
    "            print(f\"temps: {temps[i]}\\n\")\n",
    "\n",
    "    print(\"Data has been scraped and saved to 'weather_forecast.csv'.\")\n",
    "\n",
    "else:\n",
    "    print(\"Failed to retrieve the web page.\")\n"
   ]
  },
  {
   "cell_type": "code",
   "execution_count": null,
   "id": "fe38e506",
   "metadata": {},
   "outputs": [],
   "source": []
  }
 ],
 "metadata": {
  "kernelspec": {
   "display_name": "Python 3 (ipykernel)",
   "language": "python",
   "name": "python3"
  },
  "language_info": {
   "codemirror_mode": {
    "name": "ipython",
    "version": 3
   },
   "file_extension": ".py",
   "mimetype": "text/x-python",
   "name": "python",
   "nbconvert_exporter": "python",
   "pygments_lexer": "ipython3",
   "version": "3.9.12"
  }
 },
 "nbformat": 4,
 "nbformat_minor": 5
}

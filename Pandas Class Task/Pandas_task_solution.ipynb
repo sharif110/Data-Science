{
  "nbformat": 4,
  "nbformat_minor": 0,
  "metadata": {
    "colab": {
      "provenance": []
    },
    "kernelspec": {
      "name": "python3",
      "display_name": "Python 3"
    },
    "language_info": {
      "name": "python"
    }
  },
  "cells": [
    {
      "cell_type": "code",
      "execution_count": 2,
      "metadata": {
        "colab": {
          "base_uri": "https://localhost:8080/"
        },
        "id": "ybpWlJ-tftKn",
        "outputId": "158ace15-67da-4a9e-e4ba-493a26eb775e"
      },
      "outputs": [
        {
          "output_type": "stream",
          "name": "stdout",
          "text": [
            "Number of rows: 891\n",
            "Number of columns: 12\n"
          ]
        }
      ],
      "source": [
        "# Load the Titanic dataset\n",
        "import pandas as pd\n",
        "titanic_df = pd.read_csv('titanic.csv')\n",
        "\n",
        "# Get the number of rows and columns\n",
        "num_rows, num_columns = titanic_df.shape\n",
        "print(\"Number of rows:\", num_rows)\n",
        "print(\"Number of columns:\", num_columns)\n"
      ]
    },
    {
      "cell_type": "code",
      "source": [
        "# Calculate the average age\n",
        "average_age = titanic_df['Age'].mean()\n",
        "print(\"Average Age:\", average_age)\n"
      ],
      "metadata": {
        "colab": {
          "base_uri": "https://localhost:8080/"
        },
        "id": "KRUcfm4bgQ9k",
        "outputId": "4a0f4fdc-d179-42df-8c3e-d25b727a50ef"
      },
      "execution_count": 3,
      "outputs": [
        {
          "output_type": "stream",
          "name": "stdout",
          "text": [
            "Average Age: 29.69911764705882\n"
          ]
        }
      ]
    },
    {
      "cell_type": "code",
      "source": [
        "# Count the number of survivors (Survived=1) and non-survivors (Survived=0)\n",
        "survivors = titanic_df['Survived'].sum()\n",
        "non_survivors = num_rows - survivors\n",
        "print(\"Survived:\", survivors)\n",
        "print(\"Did not survive:\", non_survivors)\n"
      ],
      "metadata": {
        "colab": {
          "base_uri": "https://localhost:8080/"
        },
        "id": "6nj3-7mEgdaT",
        "outputId": "8c3c8632-64c5-4d42-dd46-4c2367e3d905"
      },
      "execution_count": 4,
      "outputs": [
        {
          "output_type": "stream",
          "name": "stdout",
          "text": [
            "Survived: 342\n",
            "Did not survive: 549\n"
          ]
        }
      ]
    },
    {
      "cell_type": "code",
      "source": [
        "# Calculate the percentage of male and female passengers\n",
        "gender_percentage = titanic_df['Sex'].value_counts(normalize=True) * 100\n",
        "print(gender_percentage)\n"
      ],
      "metadata": {
        "colab": {
          "base_uri": "https://localhost:8080/"
        },
        "id": "D8793XnWgggx",
        "outputId": "f3a41bc3-e088-449e-ef30-172bbecc2f4b"
      },
      "execution_count": 5,
      "outputs": [
        {
          "output_type": "stream",
          "name": "stdout",
          "text": [
            "male      64.758698\n",
            "female    35.241302\n",
            "Name: Sex, dtype: float64\n"
          ]
        }
      ]
    },
    {
      "cell_type": "code",
      "source": [
        "class_age_avg = titanic_df.groupby('Pclass')['Age'].mean()\n",
        "print(class_age_avg)\n"
      ],
      "metadata": {
        "colab": {
          "base_uri": "https://localhost:8080/"
        },
        "id": "Y_CD0JzFgmNx",
        "outputId": "b7a93923-4ebc-4bb6-e887-f9d7ddba4b35"
      },
      "execution_count": 6,
      "outputs": [
        {
          "output_type": "stream",
          "name": "stdout",
          "text": [
            "Pclass\n",
            "1    38.233441\n",
            "2    29.877630\n",
            "3    25.140620\n",
            "Name: Age, dtype: float64\n"
          ]
        }
      ]
    },
    {
      "cell_type": "code",
      "source": [
        "class_fare_avg = titanic_df.groupby('Pclass')['Fare'].mean()\n",
        "print(class_fare_avg)\n"
      ],
      "metadata": {
        "colab": {
          "base_uri": "https://localhost:8080/"
        },
        "id": "hg_t7pylg7rh",
        "outputId": "ee9e3100-77eb-4998-b856-59c185b91683"
      },
      "execution_count": 7,
      "outputs": [
        {
          "output_type": "stream",
          "name": "stdout",
          "text": [
            "Pclass\n",
            "1    84.154687\n",
            "2    20.662183\n",
            "3    13.675550\n",
            "Name: Fare, dtype: float64\n"
          ]
        }
      ]
    },
    {
      "cell_type": "code",
      "source": [
        "survivors_by_port = titanic_df.groupby('Embarked')['Survived'].sum()\n",
        "print(survivors_by_port)\n"
      ],
      "metadata": {
        "colab": {
          "base_uri": "https://localhost:8080/"
        },
        "id": "o5GCGN1Bg-SR",
        "outputId": "ff3e0af0-87c7-49be-86bc-9767dc997f33"
      },
      "execution_count": 8,
      "outputs": [
        {
          "output_type": "stream",
          "name": "stdout",
          "text": [
            "Embarked\n",
            "C     93\n",
            "Q     30\n",
            "S    217\n",
            "Name: Survived, dtype: int64\n"
          ]
        }
      ]
    },
    {
      "cell_type": "code",
      "source": [
        "oldest_passenger = titanic_df.loc[titanic_df['Age'].idxmax()]\n",
        "youngest_passenger = titanic_df.loc[titanic_df['Age'].idxmin()]\n",
        "print(\"Oldest Passenger:\\n\", oldest_passenger)\n",
        "print(\"Youngest Passenger:\\n\", youngest_passenger)\n"
      ],
      "metadata": {
        "colab": {
          "base_uri": "https://localhost:8080/"
        },
        "id": "R-6ykyijhBMg",
        "outputId": "a26a82b6-2d42-4cef-82d3-1e4b3e422cb3"
      },
      "execution_count": 9,
      "outputs": [
        {
          "output_type": "stream",
          "name": "stdout",
          "text": [
            "Oldest Passenger:\n",
            " PassengerId                                     631\n",
            "Survived                                          1\n",
            "Pclass                                            1\n",
            "Name           Barkworth, Mr. Algernon Henry Wilson\n",
            "Sex                                            male\n",
            "Age                                            80.0\n",
            "SibSp                                             0\n",
            "Parch                                             0\n",
            "Ticket                                        27042\n",
            "Fare                                           30.0\n",
            "Cabin                                           A23\n",
            "Embarked                                          S\n",
            "Name: 630, dtype: object\n",
            "Youngest Passenger:\n",
            " PassengerId                                804\n",
            "Survived                                     1\n",
            "Pclass                                       3\n",
            "Name           Thomas, Master. Assad Alexander\n",
            "Sex                                       male\n",
            "Age                                       0.42\n",
            "SibSp                                        0\n",
            "Parch                                        1\n",
            "Ticket                                    2625\n",
            "Fare                                    8.5167\n",
            "Cabin                                      NaN\n",
            "Embarked                                     C\n",
            "Name: 803, dtype: object\n"
          ]
        }
      ]
    },
    {
      "cell_type": "code",
      "source": [
        "with_sibsp = len(titanic_df[titanic_df['SibSp'] > 0])\n",
        "with_parch = len(titanic_df[titanic_df['Parch'] > 0])\n",
        "print(\"Passengers with SibSp:\", with_sibsp)\n",
        "print(\"Passengers with Parch:\", with_parch)\n"
      ],
      "metadata": {
        "colab": {
          "base_uri": "https://localhost:8080/"
        },
        "id": "2EQWhhOLhEaR",
        "outputId": "aa09842a-e563-48ed-8422-3317d395424d"
      },
      "execution_count": 10,
      "outputs": [
        {
          "output_type": "stream",
          "name": "stdout",
          "text": [
            "Passengers with SibSp: 283\n",
            "Passengers with Parch: 213\n"
          ]
        }
      ]
    },
    {
      "cell_type": "code",
      "source": [
        "# Define age groups\n",
        "age_bins = [0, 18, 60, 150]  # Child, Adult, Elderly\n",
        "age_labels = [\"Child\", \"Adult\", \"Elderly\"]\n",
        "\n",
        "# Create a new column 'AgeGroup' to categorize passengers\n",
        "titanic_df['AgeGroup'] = pd.cut(titanic_df['Age'], bins=age_bins, labels=age_labels)\n",
        "\n",
        "# Calculate survival rates for each age group\n",
        "age_group_survival = titanic_df.groupby('AgeGroup')['Survived'].mean()\n",
        "print(age_group_survival)\n"
      ],
      "metadata": {
        "colab": {
          "base_uri": "https://localhost:8080/"
        },
        "id": "uaVAyJ5yhk3Q",
        "outputId": "2955e641-0cec-417f-e95c-5ae96917cd02"
      },
      "execution_count": 11,
      "outputs": [
        {
          "output_type": "stream",
          "name": "stdout",
          "text": [
            "AgeGroup\n",
            "Child      0.503597\n",
            "Adult      0.388788\n",
            "Elderly    0.227273\n",
            "Name: Survived, dtype: float64\n"
          ]
        }
      ]
    },
    {
      "cell_type": "code",
      "source": [
        "# Create a new column 'TravelAlone' to identify passengers traveling alone\n",
        "titanic_df['TravelAlone'] = (titanic_df['SibSp'] + titanic_df['Parch']) == 0\n",
        "\n",
        "# Calculate survival rates for passengers traveling alone and with family\n",
        "survival_alone = titanic_df[titanic_df['TravelAlone']]['Survived'].mean()\n",
        "survival_with_family = titanic_df[~titanic_df['TravelAlone']]['Survived'].mean()\n",
        "print(\"Survival Rate for Traveling Alone:\", survival_alone)\n",
        "print(\"Survival Rate for Traveling with Family:\", survival_with_family)\n"
      ],
      "metadata": {
        "colab": {
          "base_uri": "https://localhost:8080/"
        },
        "id": "KqkfCPlHhosf",
        "outputId": "3d0a8304-0b0d-4a2d-b9f2-028aa613bf6d"
      },
      "execution_count": 12,
      "outputs": [
        {
          "output_type": "stream",
          "name": "stdout",
          "text": [
            "Survival Rate for Traveling Alone: 0.30353817504655495\n",
            "Survival Rate for Traveling with Family: 0.5056497175141242\n"
          ]
        }
      ]
    },
    {
      "cell_type": "code",
      "source": [
        "embark_class_survival = titanic_df.groupby(['Embarked', 'Pclass'])['Survived'].mean()\n",
        "print(embark_class_survival)\n"
      ],
      "metadata": {
        "colab": {
          "base_uri": "https://localhost:8080/"
        },
        "id": "lLcenZpLh3NB",
        "outputId": "a4acba42-c111-414d-8e1a-37258c9e956b"
      },
      "execution_count": 13,
      "outputs": [
        {
          "output_type": "stream",
          "name": "stdout",
          "text": [
            "Embarked  Pclass\n",
            "C         1         0.694118\n",
            "          2         0.529412\n",
            "          3         0.378788\n",
            "Q         1         0.500000\n",
            "          2         0.666667\n",
            "          3         0.375000\n",
            "S         1         0.582677\n",
            "          2         0.463415\n",
            "          3         0.189802\n",
            "Name: Survived, dtype: float64\n"
          ]
        }
      ]
    },
    {
      "cell_type": "code",
      "source": [
        "age_fare_corr = titanic_df['Age'].corr(titanic_df['Fare'])\n",
        "print(\"Correlation between Age and Fare:\", age_fare_corr)\n"
      ],
      "metadata": {
        "colab": {
          "base_uri": "https://localhost:8080/"
        },
        "id": "1vRxxwX1h7HO",
        "outputId": "f96dcf71-5a39-4782-d36e-ae7479de1b5d"
      },
      "execution_count": 14,
      "outputs": [
        {
          "output_type": "stream",
          "name": "stdout",
          "text": [
            "Correlation between Age and Fare: 0.0960666917690389\n"
          ]
        }
      ]
    },
    {
      "cell_type": "code",
      "source": [
        "# Find the most common port of embarkation\n",
        "most_common_embarkation_port = titanic_df['Embarked'].mode()[0]\n",
        "print(\"Most Common Embarkation Port:\", most_common_embarkation_port)\n"
      ],
      "metadata": {
        "colab": {
          "base_uri": "https://localhost:8080/"
        },
        "id": "vo-DBnE2iyJe",
        "outputId": "5eff2aa0-7d71-4f63-b472-011d2f3c5d97"
      },
      "execution_count": 15,
      "outputs": [
        {
          "output_type": "stream",
          "name": "stdout",
          "text": [
            "Most Common Embarkation Port: S\n"
          ]
        }
      ]
    },
    {
      "cell_type": "code",
      "source": [
        "# Count passengers with more than one sibling or spouse\n",
        "with_multiple_sibsp = len(titanic_df[titanic_df['SibSp'] > 1])\n",
        "print(\"Passengers with SibSp > 1:\", with_multiple_sibsp)\n"
      ],
      "metadata": {
        "colab": {
          "base_uri": "https://localhost:8080/"
        },
        "id": "BhmYiAY5jBB8",
        "outputId": "cad742e8-4241-48d6-d817-9ea9a568694e"
      },
      "execution_count": 16,
      "outputs": [
        {
          "output_type": "stream",
          "name": "stdout",
          "text": [
            "Passengers with SibSp > 1: 74\n"
          ]
        }
      ]
    },
    {
      "cell_type": "code",
      "source": [
        "with_family_by_class = titanic_df[(titanic_df['SibSp'] > 0) | (titanic_df['Parch'] > 0)]['Pclass'].value_counts()\n",
        "print(with_family_by_class)\n"
      ],
      "metadata": {
        "colab": {
          "base_uri": "https://localhost:8080/"
        },
        "id": "Av4KmBmgjINM",
        "outputId": "1a7404b9-ba92-4af8-8484-5ab96751415f"
      },
      "execution_count": 17,
      "outputs": [
        {
          "output_type": "stream",
          "name": "stdout",
          "text": [
            "3    167\n",
            "1    107\n",
            "2     80\n",
            "Name: Pclass, dtype: int64\n"
          ]
        }
      ]
    },
    {
      "cell_type": "code",
      "source": [],
      "metadata": {
        "id": "umHk11RHjTps"
      },
      "execution_count": null,
      "outputs": []
    }
  ]
}
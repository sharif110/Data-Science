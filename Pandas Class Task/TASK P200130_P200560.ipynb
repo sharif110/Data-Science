{
 "cells": [
  {
   "cell_type": "markdown",
   "id": "8d40ce82",
   "metadata": {},
   "source": [
    "# SHARIF ALI (P200130)\n",
    "# ABUBAKER ATTIQUE (P200560)"
   ]
  },
  {
   "cell_type": "code",
   "execution_count": 18,
   "id": "a6ea4203",
   "metadata": {},
   "outputs": [],
   "source": [
    "import pandas as pd\n",
    "import numpy as np\n",
    "\n",
    "titanic_df = pd.read_csv(\"titanic.csv\")"
   ]
  },
  {
   "cell_type": "markdown",
   "id": "72758c8c",
   "metadata": {},
   "source": [
    "# 1. How many rows and columns are there in the Titanic dataset?"
   ]
  },
  {
   "cell_type": "code",
   "execution_count": 38,
   "id": "beca7138",
   "metadata": {},
   "outputs": [
    {
     "name": "stdout",
     "output_type": "stream",
     "text": [
      "Number of rows: 891, Number of columns: 12\n"
     ]
    }
   ],
   "source": [
    "rows, columns = titanic_df.shape\n",
    "print(f\"Number of rows: {rows}, Number of columns: {columns}\")"
   ]
  },
  {
   "cell_type": "markdown",
   "id": "844a1d52",
   "metadata": {},
   "source": [
    "# 2.What is the average age of passengers on the Titanic?"
   ]
  },
  {
   "cell_type": "code",
   "execution_count": 20,
   "id": "ca25aa4f",
   "metadata": {},
   "outputs": [
    {
     "name": "stdout",
     "output_type": "stream",
     "text": [
      "Average age of passengers: 29.70\n"
     ]
    }
   ],
   "source": [
    "average_age = titanic_df['Age'].mean()\n",
    "print(f\"Average age of passengers: {average_age:.2f}\")"
   ]
  },
  {
   "cell_type": "markdown",
   "id": "f4ef313a",
   "metadata": {},
   "source": [
    "# 3.How many passengers survived, and how many did not survive?"
   ]
  },
  {
   "cell_type": "code",
   "execution_count": 21,
   "id": "cdc7c39e",
   "metadata": {},
   "outputs": [
    {
     "name": "stdout",
     "output_type": "stream",
     "text": [
      "Survived: 342, Not Survived: 549\n"
     ]
    }
   ],
   "source": [
    "survived_count = titanic_df['Survived'].sum()\n",
    "not_survived_count = rows - survived_count\n",
    "print(f\"Survived: {survived_count}, Not Survived: {not_survived_count}\")"
   ]
  },
  {
   "cell_type": "markdown",
   "id": "67bc72b7",
   "metadata": {},
   "source": [
    "# 4.What is the percentage of male and female passengers on the Titanic?"
   ]
  },
  {
   "cell_type": "code",
   "execution_count": 25,
   "id": "e800c85a",
   "metadata": {},
   "outputs": [
    {
     "name": "stdout",
     "output_type": "stream",
     "text": [
      "Percentage of male passengers: 64.76%\n",
      "Percentage of female passengers: 35.24%\n"
     ]
    }
   ],
   "source": [
    "gender_percentage = titanic_df['Sex'].value_counts(normalize=True) * 100\n",
    "print(f\"Percentage of male passengers: {gender_percentage['male']:.2f}%\")\n",
    "print(f\"Percentage of female passengers: {gender_percentage['female']:.2f}%\")"
   ]
  },
  {
   "cell_type": "markdown",
   "id": "836913eb",
   "metadata": {},
   "source": [
    "# 5.What is the average age of passengers in each passenger class (Pclass)?"
   ]
  },
  {
   "cell_type": "code",
   "execution_count": 26,
   "id": "8ccbb289",
   "metadata": {},
   "outputs": [
    {
     "name": "stdout",
     "output_type": "stream",
     "text": [
      "Average age of passengers in each passenger class:\n",
      "Pclass\n",
      "1    38.233441\n",
      "2    29.877630\n",
      "3    25.140620\n",
      "Name: Age, dtype: float64\n"
     ]
    }
   ],
   "source": [
    "average_age_by_class = titanic_df.groupby('Pclass')['Age'].mean()\n",
    "print(\"Average age of passengers in each passenger class:\")\n",
    "print(average_age_by_class)"
   ]
  },
  {
   "cell_type": "markdown",
   "id": "fb4b99bf",
   "metadata": {},
   "source": [
    "# 6.What is the average fare paid by passengers in each passenger class (Pclass)?"
   ]
  },
  {
   "cell_type": "code",
   "execution_count": 27,
   "id": "b780c621",
   "metadata": {},
   "outputs": [
    {
     "name": "stdout",
     "output_type": "stream",
     "text": [
      "Average fare paid by passengers in each passenger class:\n",
      "Pclass\n",
      "1    84.154687\n",
      "2    20.662183\n",
      "3    13.675550\n",
      "Name: Fare, dtype: float64\n"
     ]
    }
   ],
   "source": [
    "average_fare_by_class = titanic_df.groupby('Pclass')['Fare'].mean()\n",
    "print(\"Average fare paid by passengers in each passenger class:\")\n",
    "print(average_fare_by_class)"
   ]
  },
  {
   "cell_type": "markdown",
   "id": "2c39fd37",
   "metadata": {},
   "source": [
    "# 7.How many passengers survived from each embarkation port (C, Q, S)?"
   ]
  },
  {
   "cell_type": "code",
   "execution_count": 28,
   "id": "5fdc3a51",
   "metadata": {},
   "outputs": [
    {
     "name": "stdout",
     "output_type": "stream",
     "text": [
      "Number of passengers survived from each embarkation port:\n",
      "Embarked\n",
      "S    217\n",
      "C     93\n",
      "Q     30\n",
      "Name: count, dtype: int64\n"
     ]
    }
   ],
   "source": [
    "survived_by_embarkation = titanic_df[titanic_df['Survived'] == 1]['Embarked'].value_counts()\n",
    "print(\"Number of passengers survived from each embarkation port:\")\n",
    "print(survived_by_embarkation)"
   ]
  },
  {
   "cell_type": "markdown",
   "id": "23daf545",
   "metadata": {},
   "source": [
    "# 8.Who is the oldest and youngest passenger on the Titanic?"
   ]
  },
  {
   "cell_type": "code",
   "execution_count": 39,
   "id": "c9e6248b",
   "metadata": {},
   "outputs": [
    {
     "name": "stdout",
     "output_type": "stream",
     "text": [
      "Oldest passenger: Barkworth, Mr. Algernon Henry Wilson Age: 80.0\n",
      "Youngest passenger: Thomas, Master. Assad Alexander Age: 0.42\n"
     ]
    }
   ],
   "source": [
    "oldest_passenger = titanic_df.loc[titanic_df['Age'].idxmax()]\n",
    "youngest_passenger = titanic_df.loc[titanic_df['Age'].idxmin()]\n",
    "print(\"Oldest passenger:\", oldest_passenger['Name'], \"Age:\", oldest_passenger['Age'])\n",
    "print(\"Youngest passenger:\", youngest_passenger['Name'], \"Age:\", youngest_passenger['Age'])"
   ]
  },
  {
   "cell_type": "markdown",
   "id": "b01c0ded",
   "metadata": {},
   "source": [
    "# 9.How many passengers had siblings or spouses aboard (SibSp > 0) and how many had parents or children aboard (Parch > 0)?"
   ]
  },
  {
   "cell_type": "code",
   "execution_count": 30,
   "id": "893bb987",
   "metadata": {},
   "outputs": [
    {
     "name": "stdout",
     "output_type": "stream",
     "text": [
      "Passengers with SibSp > 0: 283, Passengers with Parch > 0: 213\n"
     ]
    }
   ],
   "source": [
    "with_sibsp = (titanic_df['SibSp'] > 0).sum()\n",
    "with_parch = (titanic_df['Parch'] > 0).sum()\n",
    "print(f\"Passengers with SibSp > 0: {with_sibsp}, Passengers with Parch > 0: {with_parch}\")"
   ]
  },
  {
   "cell_type": "markdown",
   "id": "019d9c30",
   "metadata": {},
   "source": [
    "# 10.What is the survival rate for passengers of different ages (e.g., children, adults, and the elderly)?"
   ]
  },
  {
   "cell_type": "code",
   "execution_count": 31,
   "id": "c528fada",
   "metadata": {},
   "outputs": [
    {
     "name": "stdout",
     "output_type": "stream",
     "text": [
      "Survival rate for passengers of different ages:\n",
      "Age\n",
      "Children    0.503597\n",
      "Adults      0.386243\n",
      "Elderly     0.125000\n",
      "Name: Survived, dtype: float64\n"
     ]
    }
   ],
   "source": [
    "age_groups = pd.cut(titanic_df['Age'], bins=[0, 18, 65, 100], labels=['Children', 'Adults', 'Elderly'])\n",
    "survival_rate_by_age_group = titanic_df.groupby(age_groups)['Survived'].mean()\n",
    "\n",
    "print(\"Survival rate for passengers of different ages:\")\n",
    "print(survival_rate_by_age_group)"
   ]
  },
  {
   "cell_type": "markdown",
   "id": "87b53342",
   "metadata": {},
   "source": [
    "# 11.\tWhat is the survival rate for passengers who were traveling alone (no SibSp or Parch) compared to those with family members on board?"
   ]
  },
  {
   "cell_type": "code",
   "execution_count": 32,
   "id": "d1dee3cc",
   "metadata": {},
   "outputs": [
    {
     "name": "stdout",
     "output_type": "stream",
     "text": [
      "Survival rate for passengers traveling alone: 0.30\n",
      "Survival rate for passengers with family: 0.51\n"
     ]
    }
   ],
   "source": [
    "alone_passengers = titanic_df[(titanic_df['SibSp'] == 0) & (titanic_df['Parch'] == 0)]\n",
    "with_family_passengers = titanic_df[(titanic_df['SibSp'] > 0) | (titanic_df['Parch'] > 0)]\n",
    "\n",
    "survival_rate_alone = alone_passengers['Survived'].mean()\n",
    "survival_rate_with_family = with_family_passengers['Survived'].mean()\n",
    "\n",
    "print(f\"Survival rate for passengers traveling alone: {survival_rate_alone:.2f}\")\n",
    "print(f\"Survival rate for passengers with family: {survival_rate_with_family:.2f}\")"
   ]
  },
  {
   "cell_type": "markdown",
   "id": "24b07499",
   "metadata": {},
   "source": [
    "# 12.What were the survival rates for passengers from different embarkation ports (C, Q, S) in each passenger class?"
   ]
  },
  {
   "cell_type": "code",
   "execution_count": 33,
   "id": "77c80b28",
   "metadata": {},
   "outputs": [
    {
     "name": "stdout",
     "output_type": "stream",
     "text": [
      "Survival rates for passengers from different embarkation ports in each passenger class:\n",
      "Embarked  Pclass\n",
      "C         1         0.694118\n",
      "          2         0.529412\n",
      "          3         0.378788\n",
      "Q         1         0.500000\n",
      "          2         0.666667\n",
      "          3         0.375000\n",
      "S         1         0.582677\n",
      "          2         0.463415\n",
      "          3         0.189802\n",
      "Name: Survived, dtype: float64\n"
     ]
    }
   ],
   "source": [
    "survival_rate_by_port_class = titanic_df.groupby(['Embarked', 'Pclass'])['Survived'].mean()\n",
    "print(\"Survival rates for passengers from different embarkation ports in each passenger class:\")\n",
    "print(survival_rate_by_port_class)"
   ]
  },
  {
   "cell_type": "markdown",
   "id": "5be9357e",
   "metadata": {},
   "source": [
    "# 13.What is the correlation between passenger age and ticket fare? Does a higher age generally correspond to a higher fare?"
   ]
  },
  {
   "cell_type": "code",
   "execution_count": 34,
   "id": "810476fd",
   "metadata": {},
   "outputs": [
    {
     "name": "stdout",
     "output_type": "stream",
     "text": [
      "Correlation between passenger age and ticket fare: 0.10\n"
     ]
    }
   ],
   "source": [
    "correlation_age_fare = titanic_df['Age'].corr(titanic_df['Fare'])\n",
    "print(f\"Correlation between passenger age and ticket fare: {correlation_age_fare:.2f}\")"
   ]
  },
  {
   "cell_type": "markdown",
   "id": "19e84c10",
   "metadata": {},
   "source": [
    "# 14.What is the most common port of embarkation (Embarked) for passengers on the Titanic?"
   ]
  },
  {
   "cell_type": "code",
   "execution_count": 35,
   "id": "21c510a2",
   "metadata": {},
   "outputs": [
    {
     "name": "stdout",
     "output_type": "stream",
     "text": [
      "Most common port of embarkation: S\n"
     ]
    }
   ],
   "source": [
    "most_common_port = titanic_df['Embarked'].mode()[0]\n",
    "print(f\"Most common port of embarkation: {most_common_port}\")"
   ]
  },
  {
   "cell_type": "markdown",
   "id": "a4d34c41",
   "metadata": {},
   "source": [
    "# 15.How many passengers had more than one sibling or spouse aboard (SibSp > 1)?"
   ]
  },
  {
   "cell_type": "code",
   "execution_count": 36,
   "id": "5aab266a",
   "metadata": {},
   "outputs": [
    {
     "name": "stdout",
     "output_type": "stream",
     "text": [
      "Passengers with more than one sibling or spouse aboard (SibSp > 1): 74\n"
     ]
    }
   ],
   "source": [
    "more_than_one_sibsp = (titanic_df['SibSp'] > 1).sum()\n",
    "print(f\"Passengers with more than one sibling or spouse aboard (SibSp > 1): {more_than_one_sibsp}\")"
   ]
  },
  {
   "cell_type": "markdown",
   "id": "74da013f",
   "metadata": {},
   "source": [
    "# 16.How many passengers in each passenger class (Pclass) were traveling with at least one family member (SibSp > 0 or Parch > 0)?"
   ]
  },
  {
   "cell_type": "code",
   "execution_count": 37,
   "id": "4b4c2a67",
   "metadata": {},
   "outputs": [
    {
     "name": "stdout",
     "output_type": "stream",
     "text": [
      "Number of passengers in each passenger class traveling with at least one family member:\n",
      "Pclass\n",
      "3    167\n",
      "1    107\n",
      "2     80\n",
      "Name: count, dtype: int64\n"
     ]
    }
   ],
   "source": [
    "with_family_by_class = titanic_df[(titanic_df['SibSp'] > 0) | (titanic_df['Parch'] > 0)]['Pclass'].value_counts()\n",
    "print(\"Number of passengers in each passenger class traveling with at least one family member:\")\n",
    "print(with_family_by_class)"
   ]
  },
  {
   "cell_type": "code",
   "execution_count": null,
   "id": "bf45d666",
   "metadata": {},
   "outputs": [],
   "source": []
  }
 ],
 "metadata": {
  "kernelspec": {
   "display_name": "Python 3 (ipykernel)",
   "language": "python",
   "name": "python3"
  },
  "language_info": {
   "codemirror_mode": {
    "name": "ipython",
    "version": 3
   },
   "file_extension": ".py",
   "mimetype": "text/x-python",
   "name": "python",
   "nbconvert_exporter": "python",
   "pygments_lexer": "ipython3",
   "version": "3.11.5"
  }
 },
 "nbformat": 4,
 "nbformat_minor": 5
}
